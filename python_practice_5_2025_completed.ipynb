{
  "cells": [
    {
      "cell_type": "markdown",
      "metadata": {
        "id": "5qV_sehzFCTp"
      },
      "source": [
        "# I. OOP"
      ]
    },
    {
      "cell_type": "markdown",
      "metadata": {
        "id": "tx_U_hOALyfg"
      },
      "source": [
        "1. (6б). Створіть клас Building, додайте три атрибути, один з яких має значення за замовчуванням та два методи на свій розсуд."
      ]
    },
    {
      "cell_type": "code",
      "execution_count": null,
      "metadata": {},
      "outputs": [],
      "source": [
        "class Building:\n",
        "    def __init__(self, name, floors, material=\"concrete\"):\n",
        "        self.name = name\n",
        "        self.floors = floors\n",
        "        self.material = material\n",
        "\n",
        "    def get_info(self):\n",
        "        return f\"Building name: {self.name}, floors: {self.floors}, material: {self.material}\"\n",
        "\n",
        "    def upgrade_floor(self):\n",
        "        self.floors += 1"
      ]
    },
    {
      "cell_type": "markdown",
      "metadata": {
        "id": "X_UlOMB0L93w"
      },
      "source": [
        "2. (2б). Створіть два обʼєкти цього класу, де один з обʼєктів створюється із дефолтним значенням атрибуту. На одному обʼєкті отримайте значення його атрибуту, а на іншому викличте один з його методів."
      ]
    },
    {
      "cell_type": "code",
      "execution_count": 8,
      "metadata": {},
      "outputs": [
        {
          "name": "stdout",
          "output_type": "stream",
          "text": [
            "Library\n",
            "6\n"
          ]
        }
      ],
      "source": [
        "building1 = Building(name=\"Library\", floors=3)\n",
        "building2 = Building(name=\"Museum\", floors=5, material=\"brick\")\n",
        "\n",
        "print(building1.name)\n",
        "building2.upgrade_floor()\n",
        "print(building2.floors)"
      ]
    },
    {
      "cell_type": "markdown",
      "metadata": {
        "id": "HoqSCZt1MHn5"
      },
      "source": [
        "3. (5б). Створіть клас, де атрибути мають різні рівні доступу. Спробуйте отримати їхні значення та опишіть результати."
      ]
    },
    {
      "cell_type": "code",
      "execution_count": 11,
      "metadata": {},
      "outputs": [
        {
          "name": "stdout",
          "output_type": "stream",
          "text": [
            "John\n",
            "30\n",
            "'Human' object has no attribute '__passport_id'\n",
            "123456789\n"
          ]
        }
      ],
      "source": [
        "class Human:\n",
        "    def __init__(self, name, age, passport_id):\n",
        "        self.name = name  #public attribute\n",
        "        self._age = age   #protected attribute\n",
        "        self.__passport_id = passport_id  #private attribute\n",
        "\n",
        "    def get_passport_id(self):\n",
        "        return self.__passport_id\n",
        "\n",
        "person = Human(name=\"John\", age=30, passport_id=\"123456789\")\n",
        "try:\n",
        "    print(person.name) \n",
        "    print(person._age)  \n",
        "    print(person.__passport_id)\n",
        "except AttributeError as e:\n",
        "    print(e) \n",
        "\n",
        "print(person.get_passport_id()) "
      ]
    },
    {
      "cell_type": "markdown",
      "metadata": {
        "id": "5op2m2vgMSkZ"
      },
      "source": [
        "4. (7б). Як ви розумієте термін self? Для чого використовується метод __init __?"
      ]
    },
    {
      "cell_type": "markdown",
      "metadata": {},
      "source": [
        "термін self це термін, який потрібен, щоб отримувати доступ до атрибутів і методів класу зсередини інших методів\n",
        "\n",
        "метод __init__ використовується для ініціалізації атрибутів екземпляра класу"
      ]
    },
    {
      "cell_type": "markdown",
      "metadata": {
        "id": "-6X8EGfjMd2y"
      },
      "source": [
        "5. (9б). Створіть клас 3D-фігура без атрибутів, з методом get_volume для отримання об'єму фігури, що повертає 0 та __add __, який приймає self та other в якості аргументів, а повертає суму об'ємів 3d-фігур self та other."
      ]
    },
    {
      "cell_type": "code",
      "execution_count": 12,
      "metadata": {},
      "outputs": [],
      "source": [
        "class Figure3D:\n",
        "    def get_volume(self):\n",
        "        return 0\n",
        "\n",
        "    def __add__(self, other):\n",
        "        if isinstance(other, Figure3D):\n",
        "            return self.get_volume() + other.get_volume()\n",
        "        return NotImplemented"
      ]
    },
    {
      "cell_type": "markdown",
      "metadata": {
        "id": "SFcKnnv5Mo_z"
      },
      "source": [
        "6. (11б). Створіть 2 дочірніх класи від 3d-фігура: Циліндр та Куб, які мають атрибути, необхідні для розрахунку об'єму. Визначте метод get_volume в кожному з них так, щоби вони розраховували об'єм у залежності від формули для кожного типу фігури. Створіть обʼєкт класу Циліндр та обʼєкт класу Куб. Виконайте операцію суми за допомогою оператора + між ними, аби знайти сумарний об'єм."
      ]
    },
    {
      "cell_type": "code",
      "execution_count": null,
      "metadata": {},
      "outputs": [
        {
          "name": "stdout",
          "output_type": "stream",
          "text": [
            "58.26548245743669\n"
          ]
        }
      ],
      "source": [
        "import math\n",
        "\n",
        "class Cylinder(Figure3D):\n",
        "    def __init__(self, r, h):\n",
        "        self.r = r\n",
        "        self.h = h\n",
        "\n",
        "    def get_volume(self):\n",
        "        return self.r**2 * math.pi * self.h\n",
        "\n",
        "class Cube(Figure3D):\n",
        "    def __init__(self, a):\n",
        "        self.a = a\n",
        "\n",
        "    def get_volume(self):\n",
        "        return self.a**3\n",
        "\n",
        "cylinder = Cylinder(r=2, h=4)\n",
        "cube = Cube(a=2)\n",
        "\n",
        "total_volume = cylinder + cube\n",
        "print(total_volume)"
      ]
    },
    {
      "cell_type": "markdown",
      "metadata": {
        "id": "HCvR206YMvLK"
      },
      "source": [
        "7. (3б). Продемонструйте різницю між isinstance та issubclass."
      ]
    },
    {
      "cell_type": "code",
      "execution_count": null,
      "metadata": {},
      "outputs": [
        {
          "name": "stdout",
          "output_type": "stream",
          "text": [
            "isinstance is used with instances or classes to check their type\n",
            "True\n",
            "True\n",
            "False\n",
            "True\n",
            "True\n",
            "\n",
            "issubclass is used only with classes to check their inheritance\n",
            "issubclass() arg 1 must be a class\n",
            "True\n",
            "False\n",
            "True\n"
          ]
        }
      ],
      "source": [
        "print('isinstance is used with instances or classes to check their type')\n",
        "print(isinstance(cube, Cube))\n",
        "print(isinstance(cube, Figure3D))\n",
        "print(isinstance(Cube, Figure3D))\n",
        "print(isinstance(cube, object))\n",
        "print(isinstance(Cube, object))\n",
        "\n",
        "print('\\nissubclass is used only with classes to check their class inheritance')\n",
        "try: \n",
        "    print(issubclass(cube, Cube))\n",
        "except TypeError as e:\n",
        "    print(e)\n",
        "print(issubclass(Cube, Figure3D))\n",
        "print(issubclass(Cube, Building))\n",
        "print(issubclass(Cube, object))"
      ]
    },
    {
      "cell_type": "markdown",
      "metadata": {
        "id": "jjsaBZ-iM0Qq"
      },
      "source": [
        "8. (13б). Створіть клас EWallet з приватними атрибутами balance та id. Реалізуйте методи поповнення та зняття коштів, забезпечивши належну інкапсуляцію. Підказка: використовуйте декоратори property та setter."
      ]
    },
    {
      "cell_type": "code",
      "execution_count": null,
      "metadata": {},
      "outputs": [
        {
          "name": "stdout",
          "output_type": "stream",
          "text": [
            "150\n",
            "120\n",
            "not enough money\n",
            "120\n"
          ]
        }
      ],
      "source": [
        "class EWallet:\n",
        "    def __init__(self, id, balance=0):\n",
        "        self.__id = id\n",
        "        self.__balance = balance\n",
        "\n",
        "    @property\n",
        "    def balance(self):\n",
        "        return self.__balance\n",
        "\n",
        "    @balance.setter\n",
        "    def balance(self, amount):\n",
        "        if amount < 0:\n",
        "            raise ValueError(\"balance can't be negative, it's a debit card\")\n",
        "        self.__balance = amount\n",
        "\n",
        "    def add(self, amount):\n",
        "        if amount <= 0:\n",
        "            raise ValueError(\"add amount must be positive\")\n",
        "        self.__balance += amount\n",
        "\n",
        "    def withdraw(self, amount):\n",
        "        if amount > self.__balance:\n",
        "            raise ValueError(\"not enough money\")\n",
        "        self.__balance -= amount\n",
        "\n",
        "\n",
        "wallet = EWallet(id=\"wallet123\", balance=100)\n",
        "wallet.add(50)\n",
        "print(wallet.balance)\n",
        "wallet.withdraw(30)\n",
        "print(wallet.balance)\n",
        "try:\n",
        "    wallet.withdraw(200)\n",
        "except ValueError as e:\n",
        "    print(e)\n",
        "print(wallet.balance)"
      ]
    },
    {
      "cell_type": "markdown",
      "metadata": {
        "id": "tIzL2SJTM8ft"
      },
      "source": [
        "9. (11б). Створіть клас ShoppingCart, який містить список об'єктів типу Item. Реалізуйте методи для додавання айтемів, їх видалення та відображення списку айтемів."
      ]
    },
    {
      "cell_type": "code",
      "execution_count": null,
      "metadata": {},
      "outputs": [
        {
          "name": "stdout",
          "output_type": "stream",
          "text": [
            "empty cart:\n",
            "cart is empty\n",
            "cart after adding items:\n",
            "[(name: Apple, price: 25), (name: Banana, price: 36)]\n",
            "cart after removing items1:\n",
            "[(name: Banana, price: 36)]\n"
          ]
        }
      ],
      "source": [
        "class Item:\n",
        "    def __init__(self, name, price):\n",
        "        self.name = name\n",
        "        self.price = price\n",
        "\n",
        "    def __repr__(self):\n",
        "        return f'(name: {self.name}, price: {self.price})'\n",
        "\n",
        "class ShoppingCart:\n",
        "    def __init__(self):\n",
        "        self.items = []\n",
        "\n",
        "    def add(self, item):\n",
        "        self.items.append(item)\n",
        "\n",
        "    def remove(self, item):\n",
        "        self.items.remove(item)\n",
        "\n",
        "    def display_items(self):\n",
        "        if not self.items:\n",
        "            print(\"cart is empty\")\n",
        "            return\n",
        "        print(self.items)\n",
        "\n",
        "cart = ShoppingCart()\n",
        "item1 = Item(name=\"Apple\", price=25)\n",
        "item2 = Item(name=\"Banana\", price=36)\n",
        "\n",
        "print(\"empty cart:\")\n",
        "cart.display_items()\n",
        "\n",
        "cart.add(item1)\n",
        "cart.add(item2)\n",
        "print(\"cart after adding items:\")\n",
        "cart.display_items()\n",
        "\n",
        "print(\"cart after removing items1:\")\n",
        "cart.remove(item1)\n",
        "cart.display_items()"
      ]
    },
    {
      "cell_type": "markdown",
      "metadata": {
        "id": "lmV8pAwwNIqu"
      },
      "source": [
        "10. (13б). Створіть клас Vehicle з атрибутами brand (manufacturer) та production_age. Створіть ще один клас Engine з такими атрибутами, як type (ex. petrol) та size (volume, litres). Створіть клас Car, який успадковує обидва класи Vehicle та Engine. Продемонструйте використання множинної спадковості, створивши обʼєкт класу Car та отримавши mro для цього класу."
      ]
    },
    {
      "cell_type": "code",
      "execution_count": 41,
      "metadata": {},
      "outputs": [
        {
          "name": "stdout",
          "output_type": "stream",
          "text": [
            "5 years old Toyota with petrol engine for 2.0 liters\n",
            "(<class '__main__.Car'>, <class '__main__.Vehicle'>, <class '__main__.Engine'>, <class 'object'>)\n"
          ]
        }
      ],
      "source": [
        "class Vehicle:\n",
        "    def __init__(self, brand, production_age):\n",
        "        self.brand = brand\n",
        "        self.production_age = production_age\n",
        "\n",
        "class Engine:\n",
        "    def __init__(self, size, type = 'petrol'):\n",
        "        self.type = type\n",
        "        self.size = size\n",
        "\n",
        "class Car(Vehicle, Engine):\n",
        "    def __init__(self, brand, production_age, size, type = 'petrol'):\n",
        "        Vehicle.__init__(self, brand, production_age)\n",
        "        Engine.__init__(self, size, type)\n",
        "\n",
        "car = Car(brand=\"Toyota\", production_age=5, size=2.0)\n",
        "print(f\"{car.production_age} years old {car.brand} with {car.type} engine for {car.size} liters\")\n",
        "print(Car.__mro__)"
      ]
    },
    {
      "cell_type": "markdown",
      "metadata": {
        "id": "dIJyUiNBFG8G"
      },
      "source": [
        "# II. Iterator"
      ]
    },
    {
      "cell_type": "markdown",
      "metadata": {
        "id": "13vsm0NyKIzL"
      },
      "source": [
        "11. (4б). Визначте рядок(str) з 4ма різними за значенням символами. Створіть ітератор на основі цього рядка. Викличте 5 разів функцію next на ітераторі, 4ри перших з них огорніть у ф-цію print()."
      ]
    },
    {
      "cell_type": "code",
      "execution_count": 43,
      "metadata": {
        "vscode": {
          "languageId": "javascript"
        }
      },
      "outputs": [
        {
          "name": "stdout",
          "output_type": "stream",
          "text": [
            "a\n",
            "b\n",
            "c\n",
            "d\n"
          ]
        },
        {
          "ename": "StopIteration",
          "evalue": "",
          "output_type": "error",
          "traceback": [
            "\u001b[31m---------------------------------------------------------------------------\u001b[39m",
            "\u001b[31mStopIteration\u001b[39m                             Traceback (most recent call last)",
            "\u001b[36mCell\u001b[39m\u001b[36m \u001b[39m\u001b[32mIn[43]\u001b[39m\u001b[32m, line 8\u001b[39m\n\u001b[32m      6\u001b[39m \u001b[38;5;28mprint\u001b[39m(\u001b[38;5;28mnext\u001b[39m(my_iterator))\n\u001b[32m      7\u001b[39m \u001b[38;5;28mprint\u001b[39m(\u001b[38;5;28mnext\u001b[39m(my_iterator))\n\u001b[32m----> \u001b[39m\u001b[32m8\u001b[39m \u001b[38;5;28;43mnext\u001b[39;49m\u001b[43m(\u001b[49m\u001b[43mmy_iterator\u001b[49m\u001b[43m)\u001b[49m\n",
            "\u001b[31mStopIteration\u001b[39m: "
          ]
        }
      ],
      "source": [
        "my_string = \"abcd\"\n",
        "my_iterator = iter(my_string)\n",
        "\n",
        "print(next(my_iterator))\n",
        "print(next(my_iterator))\n",
        "print(next(my_iterator))\n",
        "print(next(my_iterator))\n",
        "next(my_iterator)"
      ]
    },
    {
      "cell_type": "markdown",
      "metadata": {
        "id": "aekWHGXOLRsO"
      },
      "source": [
        "А що якщо викликати цю ж функцію на рядку?"
      ]
    },
    {
      "cell_type": "code",
      "execution_count": 44,
      "metadata": {},
      "outputs": [
        {
          "name": "stdout",
          "output_type": "stream",
          "text": [
            "'str' object is not an iterator\n"
          ]
        }
      ],
      "source": [
        "try:\n",
        "    next(\"abcd\")\n",
        "except TypeError as e:\n",
        "    print(e)"
      ]
    },
    {
      "cell_type": "markdown",
      "metadata": {
        "id": "XwtMEopwJ4pH"
      },
      "source": [
        " 12. (5б). Опишіть своїми словами в одному реченні, як ви розумієте різницю між ітерабельними обʼєктами та ітераторами (можна на прикладі)."
      ]
    },
    {
      "cell_type": "markdown",
      "metadata": {
        "id": "-sHrODc3KFn8"
      },
      "source": [
        "Ітерабельні об'єкти – це колекції, по яким можна проходитись в циклі (наприклад list, tuple, dict), а ітератор – це об'єкт, що запам'ятовує свій стан і повертає елементи по одному за допомогою next() (наприклад, iter([1, 2, 3]) створює ітератор зі списку, і next() на ньому виведе 1, потім 2, потім 3)"
      ]
    },
    {
      "cell_type": "markdown",
      "metadata": {
        "id": "E9qJWmNbK8Gl"
      },
      "source": [
        "13. (11б). Створіть клас, що має визначений Iterator Protocol та при кожному виклику next повертає назву дня тижня, поки вони не вичерпаються. Зверніть увагу, що порядок має значення."
      ]
    },
    {
      "cell_type": "code",
      "execution_count": 45,
      "metadata": {},
      "outputs": [
        {
          "name": "stdout",
          "output_type": "stream",
          "text": [
            "Monday\n",
            "Tuesday\n",
            "Wednesday\n",
            "Thursday\n",
            "Friday\n",
            "Saturday\n",
            "Sunday\n"
          ]
        }
      ],
      "source": [
        "class WeekdaysIterator:\n",
        "    def __init__(self):\n",
        "        self.days = [\"Monday\", \"Tuesday\", \"Wednesday\", \"Thursday\", \"Friday\", \"Saturday\", \"Sunday\"]\n",
        "        self.index = 0\n",
        "\n",
        "    def __iter__(self):\n",
        "        return self\n",
        "\n",
        "    def __next__(self):\n",
        "        if self.index < len(self.days):\n",
        "            day = self.days[self.index]\n",
        "            self.index += 1\n",
        "            return day\n",
        "        else:\n",
        "            raise StopIteration\n",
        "\n",
        "week_days = WeekdaysIterator()\n",
        "for day in week_days:\n",
        "    print(day)"
      ]
    },
    {
      "cell_type": "markdown",
      "metadata": {
        "id": "Z3E3S_s1Fv7-"
      },
      "source": [
        "# Вітаю! Ви велика(ий) молодець, що впоралась(вся). Похваліть себе та побалуйте чимось приємним. Я Вами пишаюся."
      ]
    }
  ],
  "metadata": {
    "colab": {
      "provenance": []
    },
    "kernelspec": {
      "display_name": "Python 3",
      "name": "python3"
    },
    "language_info": {
      "codemirror_mode": {
        "name": "ipython",
        "version": 3
      },
      "file_extension": ".py",
      "mimetype": "text/x-python",
      "name": "python",
      "nbconvert_exporter": "python",
      "pygments_lexer": "ipython3",
      "version": "3.11.9"
    }
  },
  "nbformat": 4,
  "nbformat_minor": 0
}
